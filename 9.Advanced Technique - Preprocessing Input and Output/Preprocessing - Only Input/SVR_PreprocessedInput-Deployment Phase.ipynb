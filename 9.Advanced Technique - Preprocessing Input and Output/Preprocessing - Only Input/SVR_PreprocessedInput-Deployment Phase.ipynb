{
 "cells": [
  {
   "cell_type": "code",
   "execution_count": 1,
   "id": "b308f5ca-e416-4c8b-bcfa-b88fa6fd5e0d",
   "metadata": {},
   "outputs": [],
   "source": [
    "import pickle\n",
    "import pandas as pd"
   ]
  },
  {
   "cell_type": "code",
   "execution_count": 3,
   "id": "344b03a3-11f4-4e77-bfc3-3b9ebcbbd36d",
   "metadata": {},
   "outputs": [],
   "source": [
    "dataset = pd.read_csv(\"50_Startups.csv\")"
   ]
  },
  {
   "cell_type": "code",
   "execution_count": 5,
   "id": "6add4b18-ce52-43d5-8bcb-ec3e491fb2de",
   "metadata": {},
   "outputs": [],
   "source": [
    "dataset = pd.get_dummies(dataset,dtype=int,drop_first=True)"
   ]
  },
  {
   "cell_type": "code",
   "execution_count": 7,
   "id": "bd73a0c6-19df-46aa-a204-f349bebe8016",
   "metadata": {},
   "outputs": [],
   "source": [
    "independent=dataset[['R&D Spend', 'Administration', 'Marketing Spend','State_Florida', 'State_New York']]\n",
    "dependent=dataset[['Profit']]"
   ]
  },
  {
   "cell_type": "code",
   "execution_count": 9,
   "id": "7c02b4af-7ddc-4ca4-a20c-20a0264bdb16",
   "metadata": {},
   "outputs": [],
   "source": [
    "from sklearn.model_selection import train_test_split\n",
    "X_train,X_test,Y_train,Y_test=train_test_split(independent,dependent,test_size=0.30,random_state=0)"
   ]
  },
  {
   "cell_type": "code",
   "execution_count": 11,
   "id": "e54be7c1-6616-41a1-ac7b-60a509631a5f",
   "metadata": {},
   "outputs": [],
   "source": [
    "from sklearn.preprocessing import StandardScaler\n",
    "sc=StandardScaler()\n",
    "X_train = sc.fit_transform(X_train)\n",
    "X_test = sc.transform(X_test)"
   ]
  },
  {
   "cell_type": "code",
   "execution_count": 13,
   "id": "7b2abce4-ee59-45c0-b767-e3dc082cf381",
   "metadata": {},
   "outputs": [],
   "source": [
    "loaded_model = pickle.load(open(\"SVR_PreInput_final.sav\",'rb'))"
   ]
  },
  {
   "cell_type": "code",
   "execution_count": 15,
   "id": "7a2896b4-0a4e-45da-a9e7-54d4335c4772",
   "metadata": {},
   "outputs": [
    {
     "name": "stdin",
     "output_type": "stream",
     "text": [
      "R and D: 1300\n",
      "Admin : 12000\n",
      "Marketing : 4000\n",
      "State_florida 0 or 1: 0\n",
      "State_NewYork 0 or 1: 1\n"
     ]
    }
   ],
   "source": [
    "rd_input= float(input(\"R and D:\"))\n",
    "admin_input=float(input(\"Admin :\"))\n",
    "mark_input=float(input(\"Marketing :\"))\n",
    "florida_input=int(input(\"State_florida 0 or 1:\"))\n",
    "newYork_input=int(input(\"State_NewYork 0 or 1:\"))"
   ]
  },
  {
   "cell_type": "code",
   "execution_count": 17,
   "id": "dfad5c0e-9e46-4a14-94a0-e5fc4da42b44",
   "metadata": {},
   "outputs": [
    {
     "name": "stderr",
     "output_type": "stream",
     "text": [
      "C:\\Anaconda\\Lib\\site-packages\\sklearn\\base.py:493: UserWarning: X does not have valid feature names, but StandardScaler was fitted with feature names\n",
      "  warnings.warn(\n"
     ]
    }
   ],
   "source": [
    "preinput = sc.transform([[rd_input,admin_input,mark_input,florida_input,newYork_input]])"
   ]
  },
  {
   "cell_type": "code",
   "execution_count": 19,
   "id": "48c9872c-ef81-4542-be1c-eb0c76ae88bb",
   "metadata": {},
   "outputs": [
    {
     "data": {
      "text/plain": [
       "array([[-1.46755405, -4.33835385, -1.50744257, -0.5       ,  1.30088727]])"
      ]
     },
     "execution_count": 19,
     "metadata": {},
     "output_type": "execute_result"
    }
   ],
   "source": [
    "preinput"
   ]
  },
  {
   "cell_type": "code",
   "execution_count": 21,
   "id": "fda0436b-32f0-4fec-bec5-c2f98014e269",
   "metadata": {},
   "outputs": [],
   "source": [
    "result = loaded_model.predict(preinput)"
   ]
  },
  {
   "cell_type": "code",
   "execution_count": 23,
   "id": "e169238b-8e09-499b-a32b-a9354f98e6ae",
   "metadata": {},
   "outputs": [
    {
     "data": {
      "text/plain": [
       "array([41597.91820487])"
      ]
     },
     "execution_count": 23,
     "metadata": {},
     "output_type": "execute_result"
    }
   ],
   "source": [
    "result"
   ]
  },
  {
   "cell_type": "code",
   "execution_count": null,
   "id": "28828650-1666-4a81-9714-daca1181e521",
   "metadata": {},
   "outputs": [],
   "source": []
  }
 ],
 "metadata": {
  "kernelspec": {
   "display_name": "Python 3 (ipykernel)",
   "language": "python",
   "name": "python3"
  },
  "language_info": {
   "codemirror_mode": {
    "name": "ipython",
    "version": 3
   },
   "file_extension": ".py",
   "mimetype": "text/x-python",
   "name": "python",
   "nbconvert_exporter": "python",
   "pygments_lexer": "ipython3",
   "version": "3.12.7"
  }
 },
 "nbformat": 4,
 "nbformat_minor": 5
}
