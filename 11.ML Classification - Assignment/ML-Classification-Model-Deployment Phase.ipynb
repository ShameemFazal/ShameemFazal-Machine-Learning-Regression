{
 "cells": [
  {
   "cell_type": "code",
   "execution_count": 1,
   "id": "a15277d4-b02d-4385-b5a2-2993384a7267",
   "metadata": {},
   "outputs": [],
   "source": [
    "import pickle"
   ]
  },
  {
   "cell_type": "code",
   "execution_count": 3,
   "id": "f94906e9-b1cd-4cc4-8ab5-cbfd31ff69f6",
   "metadata": {},
   "outputs": [],
   "source": [
    "loaded_model = pickle.load(open(\"Finalized_LogisticRegression_Classification_model.sav\",'rb'))"
   ]
  },
  {
   "cell_type": "code",
   "execution_count": 5,
   "id": "9a6b28d3-5470-4eba-8322-a06b9becc1c3",
   "metadata": {},
   "outputs": [
    {
     "name": "stdin",
     "output_type": "stream",
     "text": [
      "Enter your Age : 41\n",
      "Enter your bp  : 85\n",
      "Enter your al : 3\n",
      "Enter your su : 4\n",
      "Enter your bgr : 148.11\n",
      "Enter your bu : 57.482\n",
      "Enter your sc : 3.077\n",
      "Enter your sod : 137.528\n",
      "Enter your pot : 4.62\n",
      "Enter your hrmo : 12.518\n",
      "Enter your pcv : 38.868\n",
      "Enter your wc : 8408.191\n",
      "Enter your rc : 4.705\n",
      "Enter your sg_b : 0\n",
      "Enter your sg_c : 1\n",
      "Enter your sg_d : 0\n",
      "Enter your sg_e : 0\n",
      "Enter your rbc_normal : 1\n",
      "Enter your pc_normal : 1\n",
      "Enter your pcc_present : 0\n",
      "Enter your ba_present : 0\n",
      "Enter your htn_yes : 1\n",
      "Enter your dm_yes : 1\n",
      "Enter your cad_yes : 1\n",
      "Enter your appet_yes : 1\n",
      "Enter your pe_yes : 1\n",
      "Enter your ane_yes : 1\n"
     ]
    }
   ],
   "source": [
    "Age_input= float(input(\"Enter your Age :\"))\n",
    "bp_input=float(input(\"Enter your bp  :\"))\n",
    "al_input=float(input(\"Enter your al :\"))\n",
    "su_input=float(input(\"Enter your su :\"))\n",
    "bgr_input=float(input(\"Enter your bgr :\"))\n",
    "bu_input=float(input(\"Enter your bu :\"))\n",
    "sc_input=float(input(\"Enter your sc :\"))\n",
    "sod_input=float(input(\"Enter your sod :\"))\n",
    "pot_input=float(input(\"Enter your pot :\"))\n",
    "hrmo_input=float(input(\"Enter your hrmo :\"))\n",
    "pcv_input=float(input(\"Enter your pcv :\"))\n",
    "wc_input=float(input(\"Enter your wc :\"))\n",
    "rc_input=float(input(\"Enter your rc :\"))\n",
    "sg_b_input=int(input(\"Enter your sg_b :\"))\n",
    "sg_c_input=int(input(\"Enter your sg_c :\"))\n",
    "sg_d_input=int(input(\"Enter your sg_d :\"))\n",
    "sg_e_input=int(input(\"Enter your sg_e :\"))\n",
    "rbc_normal_input=int(input(\"Enter your rbc_normal :\"))\n",
    "pc_normal_input=int(input(\"Enter your pc_normal :\"))\n",
    "pcc_present_input=int(input(\"Enter your pcc_present :\"))\n",
    "ba_present_input=int(input(\"Enter your ba_present :\"))\n",
    "htn_yes_input=int(input(\"Enter your htn_yes :\"))\n",
    "dm_yes_input=int(input(\"Enter your dm_yes :\"))\n",
    "cad_yes_input=int(input(\"Enter your cad_yes :\"))\n",
    "appet_yes_input=int(input(\"Enter your appet_yes :\"))\n",
    "pe_yes_input=int(input(\"Enter your pe_yes :\"))\n",
    "ane_yes_input=int(input(\"Enter your ane_yes :\"))"
   ]
  },
  {
   "cell_type": "code",
   "execution_count": 7,
   "id": "25047b6c-2565-4aa3-be35-9ec126675b30",
   "metadata": {},
   "outputs": [],
   "source": [
    "result=loaded_model.predict([[Age_input,bp_input,al_input,su_input,bgr_input,bu_input,sc_input,sod_input,pot_input,hrmo_input,pcv_input,wc_input,\n",
    "rc_input,sg_b_input,sg_c_input,sg_d_input,sg_e_input,rbc_normal_input,pc_normal_input,pcc_present_input,ba_present_input,htn_yes_input,dm_yes_input,cad_yes_input,\n",
    "appet_yes_input,pe_yes_input,ane_yes_input]])"
   ]
  },
  {
   "cell_type": "code",
   "execution_count": 9,
   "id": "7f93a2e7-561b-4221-8047-cd4573352e70",
   "metadata": {},
   "outputs": [
    {
     "data": {
      "text/plain": [
       "array([0])"
      ]
     },
     "execution_count": 9,
     "metadata": {},
     "output_type": "execute_result"
    }
   ],
   "source": [
    "result"
   ]
  },
  {
   "cell_type": "code",
   "execution_count": null,
   "id": "ff4e6876-bd6f-47ed-b178-dfca02428716",
   "metadata": {},
   "outputs": [],
   "source": []
  }
 ],
 "metadata": {
  "kernelspec": {
   "display_name": "Python 3 (ipykernel)",
   "language": "python",
   "name": "python3"
  },
  "language_info": {
   "codemirror_mode": {
    "name": "ipython",
    "version": 3
   },
   "file_extension": ".py",
   "mimetype": "text/x-python",
   "name": "python",
   "nbconvert_exporter": "python",
   "pygments_lexer": "ipython3",
   "version": "3.12.7"
  }
 },
 "nbformat": 4,
 "nbformat_minor": 5
}
