{
 "cells": [
  {
   "cell_type": "code",
   "execution_count": 1,
   "id": "67556c49-6e21-4665-87bd-7d8026b1a67a",
   "metadata": {},
   "outputs": [],
   "source": [
    "import pickle"
   ]
  },
  {
   "cell_type": "code",
   "execution_count": 3,
   "id": "42079cca-10ca-433e-8555-d0a3055d98d1",
   "metadata": {},
   "outputs": [],
   "source": [
    "loaded_model = pickle.load(open(\"Finalized_InsuranceCharges_Prediction_DTRegressorGridSearchCV_model.sav\",'rb'))"
   ]
  },
  {
   "cell_type": "code",
   "execution_count": 5,
   "id": "c22fd888-4a7d-4e45-9fac-056cac92435c",
   "metadata": {},
   "outputs": [
    {
     "name": "stdin",
     "output_type": "stream",
     "text": [
      " Age : 41\n",
      " BMI : 36\n",
      "Children : 3\n",
      "Gender  0 or 1: 1\n",
      "Smoker 0 or 1: 0\n"
     ]
    }
   ],
   "source": [
    "age_input= float(input(\" Age :\"))\n",
    "bmi_input=float(input(\" BMI :\"))\n",
    "children_input=int(input(\"Children :\"))\n",
    "Gender_input=int(input(\"Gender  0 or 1:\"))\n",
    "Smoker_input=int(input(\"Smoker 0 or 1:\"))"
   ]
  },
  {
   "cell_type": "code",
   "execution_count": 7,
   "id": "30802e25-b5e4-47f8-b74b-8870f95c22ac",
   "metadata": {},
   "outputs": [
    {
     "name": "stderr",
     "output_type": "stream",
     "text": [
      "C:\\Anaconda\\Lib\\site-packages\\sklearn\\base.py:493: UserWarning: X does not have valid feature names, but DecisionTreeRegressor was fitted with feature names\n",
      "  warnings.warn(\n"
     ]
    }
   ],
   "source": [
    "result = loaded_model.predict([[age_input,bmi_input,children_input,Gender_input,Smoker_input]])"
   ]
  },
  {
   "cell_type": "code",
   "execution_count": 9,
   "id": "230bbfdc-8ec9-40b9-b644-05f300b793e1",
   "metadata": {},
   "outputs": [
    {
     "data": {
      "text/plain": [
       "array([7265.7025])"
      ]
     },
     "execution_count": 9,
     "metadata": {},
     "output_type": "execute_result"
    }
   ],
   "source": [
    "result"
   ]
  },
  {
   "cell_type": "code",
   "execution_count": null,
   "id": "8dcf0b22-165e-4fc3-80c1-5341cf03151b",
   "metadata": {},
   "outputs": [],
   "source": []
  }
 ],
 "metadata": {
  "kernelspec": {
   "display_name": "Python 3 (ipykernel)",
   "language": "python",
   "name": "python3"
  },
  "language_info": {
   "codemirror_mode": {
    "name": "ipython",
    "version": 3
   },
   "file_extension": ".py",
   "mimetype": "text/x-python",
   "name": "python",
   "nbconvert_exporter": "python",
   "pygments_lexer": "ipython3",
   "version": "3.12.7"
  }
 },
 "nbformat": 4,
 "nbformat_minor": 5
}
