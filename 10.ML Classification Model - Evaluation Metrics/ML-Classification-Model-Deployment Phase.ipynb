{
 "cells": [
  {
   "cell_type": "code",
   "execution_count": 1,
   "id": "a15277d4-b02d-4385-b5a2-2993384a7267",
   "metadata": {},
   "outputs": [],
   "source": [
    "import pickle"
   ]
  },
  {
   "cell_type": "code",
   "execution_count": 3,
   "id": "f94906e9-b1cd-4cc4-8ab5-cbfd31ff69f6",
   "metadata": {},
   "outputs": [],
   "source": [
    "loaded_model = pickle.load(open(\"Finalized_RandomForestClassifier_model.sav\",'rb'))"
   ]
  },
  {
   "cell_type": "code",
   "execution_count": 5,
   "id": "9a6b28d3-5470-4eba-8322-a06b9becc1c3",
   "metadata": {},
   "outputs": [
    {
     "name": "stdin",
     "output_type": "stream",
     "text": [
      "Enter your Age : 41\n",
      "Enter your Salary amount  : 25000\n",
      "Enter Gender : 1\n"
     ]
    }
   ],
   "source": [
    "Age_input= float(input(\"Enter your Age :\"))\n",
    "EstimatedSalary_input=float(input(\"Enter your Salary amount  :\"))\n",
    "Gender_input=int(input(\"Enter Gender :\"))"
   ]
  },
  {
   "cell_type": "code",
   "execution_count": 7,
   "id": "25047b6c-2565-4aa3-be35-9ec126675b30",
   "metadata": {},
   "outputs": [
    {
     "name": "stderr",
     "output_type": "stream",
     "text": [
      "C:\\Anaconda\\Lib\\site-packages\\sklearn\\base.py:493: UserWarning: X does not have valid feature names, but RandomForestClassifier was fitted with feature names\n",
      "  warnings.warn(\n"
     ]
    }
   ],
   "source": [
    "result=loaded_model.predict([[Age_input,EstimatedSalary_input,Gender_input]])"
   ]
  },
  {
   "cell_type": "code",
   "execution_count": 9,
   "id": "7f93a2e7-561b-4221-8047-cd4573352e70",
   "metadata": {},
   "outputs": [
    {
     "data": {
      "text/plain": [
       "array([0], dtype=int64)"
      ]
     },
     "execution_count": 9,
     "metadata": {},
     "output_type": "execute_result"
    }
   ],
   "source": [
    "result"
   ]
  },
  {
   "cell_type": "code",
   "execution_count": null,
   "id": "ff4e6876-bd6f-47ed-b178-dfca02428716",
   "metadata": {},
   "outputs": [],
   "source": []
  }
 ],
 "metadata": {
  "kernelspec": {
   "display_name": "Python 3 (ipykernel)",
   "language": "python",
   "name": "python3"
  },
  "language_info": {
   "codemirror_mode": {
    "name": "ipython",
    "version": 3
   },
   "file_extension": ".py",
   "mimetype": "text/x-python",
   "name": "python",
   "nbconvert_exporter": "python",
   "pygments_lexer": "ipython3",
   "version": "3.12.7"
  }
 },
 "nbformat": 4,
 "nbformat_minor": 5
}
